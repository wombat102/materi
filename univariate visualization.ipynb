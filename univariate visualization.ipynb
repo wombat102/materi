{
 "cells": [
  {
   "cell_type": "markdown",
   "metadata": {
    "_cell_guid": "db873c85-28d4-42bc-a779-84bb7763d24d",
    "_uuid": "e6771b57022df4ea87adb58395cfb2748978166a"
   },
   "source": [
    "# Univariate plotting with pandas\n",
    "\n",
    "<table>\n",
    "<tr>\n",
    "<td><img src=\"https://i.imgur.com/skaZPhb.png\" width=\"350px\"/></td>\n",
    "<td><img src=\"https://i.imgur.com/gaNttYd.png\" width=\"350px\"/></td>\n",
    "<td><img src=\"https://i.imgur.com/pampioh.png\"/></td>\n",
    "<td><img src=\"https://i.imgur.com/OSbuszd.png\"/></td>\n",
    "\n",
    "<!--<td><img src=\"https://i.imgur.com/ydaMhT1.png\" width=\"350px\"/></td>\n",
    "<td><img src=\"https://i.imgur.com/WLAqDSV.png\" width=\"350px\"/></td>\n",
    "<td><img src=\"https://i.imgur.com/Tj2y9gH.png\"/></td>\n",
    "<td><img src=\"https://i.imgur.com/X0qXLCu.png\"/></td>-->\n",
    "</tr>\n",
    "<tr>\n",
    "<td style=\"font-weight:bold; font-size:16px;\">Bar Chat</td>\n",
    "<td style=\"font-weight:bold; font-size:16px;\">Line Chart</td>\n",
    "<td style=\"font-weight:bold; font-size:16px;\">Area Chart</td>\n",
    "<td style=\"font-weight:bold; font-size:16px;\">Histogram</td>\n",
    "</tr>\n",
    "<tr>\n",
    "<td>df.plot.bar()</td>\n",
    "<td>df.plot.line()</td>\n",
    "<td>df.plot.area()</td>\n",
    "<td>df.plot.hist()</td>\n",
    "</tr>\n",
    "<tr>\n",
    "<td>Good for nominal and small ordinal categorical data.</td>\n",
    "<td>\tGood for ordinal categorical and interval data.</td>\n",
    "<td>Good for ordinal categorical and interval data.</td>\n",
    "<td>Good for interval data.</td>\n",
    "</tr>\n",
    "</table>\n",
    "\n",
    "----\n",
    "\n",
    "The `pandas` library is the core library for Python data analysis: the \"killer feature\" that makes the entire ecosystem stick together. However, it can do more than load and transform your data: it can visualize it too! Indeed, the easy-to-use and expressive pandas plotting API is a big part of `pandas` popularity.\n",
    "\n",
    "In this section we will learn the basic `pandas` plotting facilities, starting with the simplest type of visualization: single-variable or \"univariate\" visualizations. This includes basic tools like bar plots and line charts. Through these we'll get an understanding of `pandas` plotting library structure, and spend some time examining data types."
   ]
  },
  {
   "cell_type": "code",
   "execution_count": 5,
   "metadata": {
    "_cell_guid": "572b9ceb-6d85-4a64-bc81-f8cb9cd46398",
    "_uuid": "59171533b53fcf7b59725f1b8b12d0a31688b4d2"
   },
   "outputs": [
    {
     "data": {
      "text/html": [
       "<div>\n",
       "<style scoped>\n",
       "    .dataframe tbody tr th:only-of-type {\n",
       "        vertical-align: middle;\n",
       "    }\n",
       "\n",
       "    .dataframe tbody tr th {\n",
       "        vertical-align: top;\n",
       "    }\n",
       "\n",
       "    .dataframe thead th {\n",
       "        text-align: right;\n",
       "    }\n",
       "</style>\n",
       "<table border=\"1\" class=\"dataframe\">\n",
       "  <thead>\n",
       "    <tr style=\"text-align: right;\">\n",
       "      <th></th>\n",
       "      <th>country</th>\n",
       "      <th>description</th>\n",
       "      <th>designation</th>\n",
       "      <th>points</th>\n",
       "      <th>price</th>\n",
       "      <th>province</th>\n",
       "      <th>region_1</th>\n",
       "      <th>region_2</th>\n",
       "      <th>variety</th>\n",
       "      <th>winery</th>\n",
       "    </tr>\n",
       "  </thead>\n",
       "  <tbody>\n",
       "    <tr>\n",
       "      <th>0</th>\n",
       "      <td>US</td>\n",
       "      <td>This tremendous 100% varietal wine hails from ...</td>\n",
       "      <td>Martha's Vineyard</td>\n",
       "      <td>96</td>\n",
       "      <td>235.0</td>\n",
       "      <td>California</td>\n",
       "      <td>Napa Valley</td>\n",
       "      <td>Napa</td>\n",
       "      <td>Cabernet Sauvignon</td>\n",
       "      <td>Heitz</td>\n",
       "    </tr>\n",
       "    <tr>\n",
       "      <th>1</th>\n",
       "      <td>Spain</td>\n",
       "      <td>Ripe aromas of fig, blackberry and cassis are ...</td>\n",
       "      <td>Carodorum Selección Especial Reserva</td>\n",
       "      <td>96</td>\n",
       "      <td>110.0</td>\n",
       "      <td>Northern Spain</td>\n",
       "      <td>Toro</td>\n",
       "      <td>NaN</td>\n",
       "      <td>Tinta de Toro</td>\n",
       "      <td>Bodega Carmen Rodríguez</td>\n",
       "    </tr>\n",
       "    <tr>\n",
       "      <th>2</th>\n",
       "      <td>US</td>\n",
       "      <td>Mac Watson honors the memory of a wine once ma...</td>\n",
       "      <td>Special Selected Late Harvest</td>\n",
       "      <td>96</td>\n",
       "      <td>90.0</td>\n",
       "      <td>California</td>\n",
       "      <td>Knights Valley</td>\n",
       "      <td>Sonoma</td>\n",
       "      <td>Sauvignon Blanc</td>\n",
       "      <td>Macauley</td>\n",
       "    </tr>\n",
       "  </tbody>\n",
       "</table>\n",
       "</div>"
      ],
      "text/plain": [
       "  country                                        description  \\\n",
       "0      US  This tremendous 100% varietal wine hails from ...   \n",
       "1   Spain  Ripe aromas of fig, blackberry and cassis are ...   \n",
       "2      US  Mac Watson honors the memory of a wine once ma...   \n",
       "\n",
       "                            designation  points  price        province  \\\n",
       "0                     Martha's Vineyard      96  235.0      California   \n",
       "1  Carodorum Selección Especial Reserva      96  110.0  Northern Spain   \n",
       "2         Special Selected Late Harvest      96   90.0      California   \n",
       "\n",
       "         region_1 region_2             variety                   winery  \n",
       "0     Napa Valley     Napa  Cabernet Sauvignon                    Heitz  \n",
       "1            Toro      NaN       Tinta de Toro  Bodega Carmen Rodríguez  \n",
       "2  Knights Valley   Sonoma     Sauvignon Blanc                 Macauley  "
      ]
     },
     "execution_count": 5,
     "metadata": {},
     "output_type": "execute_result"
    }
   ],
   "source": [
    "import pandas as pd\n",
    "reviews = pd.read_csv(\"winemag-data_first150k.csv\", index_col=0)\n",
    "reviews.head(3)"
   ]
  },
  {
   "cell_type": "markdown",
   "metadata": {
    "_cell_guid": "0ff0e045-9d85-4120-a51e-8bdba125c45f",
    "_uuid": "41332402f0d7d1a76cb93f17fabc238a4e99ca21"
   },
   "source": [
    "## Bar charts and categorical data\n",
    "\n",
    "Bar charts are arguably the simplest data visualization. They map categories to numbers: the amount of eggs consumed for breakfast (a category) to a number breakfast-eating Americans, for example; or, in our case, wine-producing provinces of the world (category) to the number of labels of wines they produce (number):"
   ]
  },
  {
   "cell_type": "code",
   "execution_count": 6,
   "metadata": {
    "_cell_guid": "09f87ff1-9742-43ea-ac23-105d848100b8",
    "_uuid": "21b19b59eb6f9161eb93655567c1b7bb69f865ed"
   },
   "outputs": [
    {
     "name": "stdout",
     "output_type": "stream",
     "text": [
      "Bordeaux             6111\n",
      "Burgundy             4308\n",
      "California          44508\n",
      "Mendoza Province     4742\n",
      "Northern Spain       4892\n",
      "Oregon               4589\n",
      "Piedmont             4093\n",
      "Tuscany              7281\n",
      "Veneto               3962\n",
      "Washington           9750\n",
      "Name: province, dtype: int64\n"
     ]
    }
   ],
   "source": [
    "count  = reviews['province'].value_counts().head(10)\n",
    "print(count.sort_index())"
   ]
  },
  {
   "cell_type": "code",
   "execution_count": 7,
   "metadata": {},
   "outputs": [
    {
     "data": {
      "text/plain": [
       "<matplotlib.axes._subplots.AxesSubplot at 0x203b14fb400>"
      ]
     },
     "execution_count": 7,
     "metadata": {},
     "output_type": "execute_result"
    }
   ],
   "source": [
    "reviews['country'].value_counts().head(10).plot.line()"
   ]
  },
  {
   "cell_type": "code",
   "execution_count": 8,
   "metadata": {
    "_uuid": "9486af08839e1cb17df563bb4de06874f3ada6a0"
   },
   "outputs": [
    {
     "data": {
      "text/plain": [
       "<matplotlib.axes._subplots.AxesSubplot at 0x203b199aeb8>"
      ]
     },
     "execution_count": 8,
     "metadata": {},
     "output_type": "execute_result"
    },
    {
     "data": {
      "image/png": "[encoded data removed]",
      "text/plain": [
       "<Figure size 432x288 with 1 Axes>"
      ]
     },
     "metadata": {
      "needs_background": "light"
     },
     "output_type": "display_data"
    }
   ],
   "source": [
    "(reviews['country'].value_counts().head(10)/len(reviews)).plot.line()"
   ]
  },
  {
   "cell_type": "markdown",
   "metadata": {
    "_cell_guid": "8592d9ae-7282-4106-ba82-c50ebc3f3866",
    "_uuid": "d8acc281621e8fe8e5cafdc4cb7d22f1c394630d"
   },
   "source": [
    "What does this plot tell us? It says California produces far more wine than any other province of the world! We might ask what percent of the total is Californian vintage? This bar chart tells us absolute numbers, but it's more useful to know relative proportions. No problem:"
   ]
  },
  {
   "cell_type": "code",
   "execution_count": 9,
   "metadata": {
    "_cell_guid": "c28ea90f-6b11-437c-8c66-cd9a6ab2906c",
    "_uuid": "f7d1ce10e4be0430c40c737fa4389173c251e550"
   },
   "outputs": [
    {
     "data": {
      "text/plain": [
       "<matplotlib.axes._subplots.AxesSubplot at 0x203b1a0abe0>"
      ]
     },
     "execution_count": 9,
     "metadata": {},
     "output_type": "execute_result"
    },
    {
     "data": {
      "image/png": "[encoded data removed]",
      "text/plain": [
       "<Figure size 432x288 with 1 Axes>"
      ]
     },
     "metadata": {
      "needs_background": "light"
     },
     "output_type": "display_data"
    }
   ],
   "source": [
    "(reviews['province'].value_counts().head(10) / len(reviews)).plot.bar()"
   ]
  },
  {
   "cell_type": "markdown",
   "metadata": {
    "_cell_guid": "75b49b81-e79c-43f5-a082-a50957003a71",
    "_uuid": "8a8d5956b6660e838343312da7d4b4b19b04ff80"
   },
   "source": [
    "California produces almost a third of wines reviewed in Wine Magazine!\n",
    "\n",
    "Bar charts are very flexible: The height can represent anything, as long as it is a number. And each bar can represent anything, as long as it is a category.\n",
    "\n",
    "In this case the categories are **nominal categories**: \"pure\" categories that don't make a lot of sense to order. Nominal categorical variables include things like countries, ZIP codes, types of cheese, and lunar landers. The other kind are **ordinal categories**: things that do make sense to compare, like earthquake magnitudes, housing complexes with certain numbers of apartments, and the sizes of bags of chips at your local deli.\n",
    "\n",
    "Or, in our case, the number of reviews of a certain score allotted by Wine Magazine:"
   ]
  },
  {
   "cell_type": "code",
   "execution_count": 10,
   "metadata": {
    "_cell_guid": "d75758cd-08d2-4982-a542-0d69c6719a12",
    "_uuid": "c5023d32644a97e4ae5ac2f778e482436c3bc944"
   },
   "outputs": [
    {
     "data": {
      "text/plain": [
       "<matplotlib.axes._subplots.AxesSubplot at 0x203b1a6ec50>"
      ]
     },
     "execution_count": 10,
     "metadata": {},
     "output_type": "execute_result"
    },
    {
     "data": {
      "image/png": "[encoded data removed]",
      "text/plain": [
       "<Figure size 432x288 with 1 Axes>"
      ]
     },
     "metadata": {
      "needs_background": "light"
     },
     "output_type": "display_data"
    }
   ],
   "source": [
    "reviews['points'].value_counts().sort_index().plot.bar()"
   ]
  },
  {
   "cell_type": "markdown",
   "metadata": {
    "_cell_guid": "12c8e556-f4d8-4c05-bf00-9bd5cea6dac2",
    "_uuid": "d2682d373d7f52173ef04ef44a051c42c46a93f9"
   },
   "source": [
    "As you can see, every vintage is allotted an overall score between 80 and 100; and, if we are to believe that Wine Magazine is an arbiter of good taste, then a 92 is somehow meaningfully \"better\" than a 91."
   ]
  },
  {
   "cell_type": "markdown",
   "metadata": {
    "_cell_guid": "458bf34e-29ca-4e60-b5ec-ca917b45af39",
    "_uuid": "15733eda442c4c818ec6b2eb6f9e0a15de85f10b"
   },
   "source": [
    "## Line charts\n",
    "\n",
    "The wine review scorecard has 20 different unique values to fill, for which our bar chart is just barely enough. What would we do if the magazine rated things 0-100? We'd have 100 different categories; simply too many to fit a bar in for each one!\n",
    "\n",
    "In that case, instead of bar chart, we could use a line chart:"
   ]
  },
  {
   "cell_type": "code",
   "execution_count": 11,
   "metadata": {
    "_cell_guid": "289dab16-4ed4-4e91-8abb-6f92d176a48d",
    "_uuid": "1b056bfc78b0a70a6178463a74dea4f62a547ff6"
   },
   "outputs": [
    {
     "data": {
      "text/plain": [
       "80       898\n",
       "81      1502\n",
       "82      4041\n",
       "83      6048\n",
       "84     10708\n",
       "85     12411\n",
       "86     15573\n",
       "87     20747\n",
       "88     17871\n",
       "89     12921\n",
       "90     15973\n",
       "91     10536\n",
       "92      9241\n",
       "93      6017\n",
       "94      3462\n",
       "95      1716\n",
       "96       695\n",
       "97       365\n",
       "98       131\n",
       "99        50\n",
       "100       24\n",
       "Name: points, dtype: int64"
      ]
     },
     "execution_count": 11,
     "metadata": {},
     "output_type": "execute_result"
    }
   ],
   "source": [
    "reviews['points'].value_counts().sort_index()"
   ]
  },
  {
   "cell_type": "markdown",
   "metadata": {
    "_cell_guid": "4f3e118a-a4d8-4975-bdd0-28476f1dba76",
    "_uuid": "ee5416417f8e486a6461530ff7ca1fc083d6f4fa"
   },
   "source": [
    "A line chart can pass over any number of many individual values, making it the tool of first choice for distributions with many unique values or categories.\n",
    "\n",
    "However, line charts have an important weakness: unlike bar charts, they're not appropriate for nominal categorical data. While bar charts distinguish between every \"type\" of point line charts mushes them together. So a line chart asserts an order to the values on the horizontal axis, and the order won’t make sense with some data. After all, a \"descent\" from California to Washington to Tuscany doesn't mean much!\n",
    "\n",
    "Line charts also make it harder to distinguish between individual values.\n",
    "\n",
    "In general, if your data can fit into a bar chart, just use a bar chart!"
   ]
  },
  {
   "cell_type": "markdown",
   "metadata": {
    "_cell_guid": "b1cc4eb7-9858-497a-a2d7-9fad4d2d09ab",
    "_uuid": "e4fd2dabe2eacac899c0268a3c0e3ebf55d0b8f7"
   },
   "source": [
    "## Quick break: bar or line\n",
    "\n",
    "Let's do a quick exercise. Suppose that we're interested in counting the following variables:\n",
    "\n",
    "1. The number of tubs of ice cream purchased by flavor, given that there are 5 different flavors.\n",
    "2. The average number of cars purchased from American car manufacturers in Michigan.\n",
    "3. Test scores given to students by teachers at a college, on a 0-100 scale.\n",
    "4. The number of restaurants located on the street by the name of the street in Lower Manhattan.\n",
    "\n",
    "For which of these would a bar chart be better? Which ones would be better off with a line?\n",
    "\n",
    "To see the answer, click the \"Output\" button on the code block below."
   ]
  },
  {
   "cell_type": "code",
   "execution_count": 12,
   "metadata": {
    "_cell_guid": "78987153-80f6-4871-bfbe-99fe44bf719e",
    "_kg_hide-input": true,
    "_kg_hide-output": true,
    "_uuid": "ce2a9ba5a3d813fbea8783ffb25b85b0d6f0d6bd"
   },
   "outputs": [
    {
     "data": {
      "text/html": [
       "\n",
       "<ol>\n",
       "<li>This is a simple nominal categorical variable. Five bars will fit easily into a display, so a bar chart will do!</li>\n",
       "<br/>\n",
       "<li>This example is similar: nominal categorical variables. There are probably more than five American car manufacturers, so the chart will be a little more crowded, but a bar chart will still do it.</li>\n",
       "<br/>\n",
       "<li>This is an ordinal categorical variable. We have a lot of potential values between 0 and 100, so a bar chart won't have enough room. A line chart is better.</li>\n",
       "<br/>\n",
       "<li>\n",
       "<p>Number 4 is a lot harder. City streets are obviously ordinary categorical variables, so we *ought* to use a bar chart; but there are a lot of streets out there! We couldn't possibly fit all of them into a display.</p>\n",
       "<p>Sometimes, your data will have too many points to do something \"neatly\", and that's OK. If you organize the data by value count and plot a line chart over that, you'll learn valuable information about *percentiles*: that a street in the 90th percentile has 20 restaurants, for example, or one in the 50th just 6. This is basically a form of aggregation: we've turned streets into percentiles!</p> \n",
       "<p>The lesson: your *interpretation* of the data is more important than the tool that you use.</p></li>\n",
       "</ol>\n"
      ],
      "text/plain": [
       "<IPython.core.display.HTML object>"
      ]
     },
     "execution_count": 12,
     "metadata": {},
     "output_type": "execute_result"
    }
   ],
   "source": [
    "raw = \"\"\"\n",
    "<ol>\n",
    "<li>This is a simple nominal categorical variable. Five bars will fit easily into a display, so a bar chart will do!</li>\n",
    "<br/>\n",
    "<li>This example is similar: nominal categorical variables. There are probably more than five American car manufacturers, so the chart will be a little more crowded, but a bar chart will still do it.</li>\n",
    "<br/>\n",
    "<li>This is an ordinal categorical variable. We have a lot of potential values between 0 and 100, so a bar chart won't have enough room. A line chart is better.</li>\n",
    "<br/>\n",
    "<li>\n",
    "<p>Number 4 is a lot harder. City streets are obviously ordinary categorical variables, so we *ought* to use a bar chart; but there are a lot of streets out there! We couldn't possibly fit all of them into a display.</p>\n",
    "<p>Sometimes, your data will have too many points to do something \"neatly\", and that's OK. If you organize the data by value count and plot a line chart over that, you'll learn valuable information about *percentiles*: that a street in the 90th percentile has 20 restaurants, for example, or one in the 50th just 6. This is basically a form of aggregation: we've turned streets into percentiles!</p> \n",
    "<p>The lesson: your *interpretation* of the data is more important than the tool that you use.</p></li>\n",
    "</ol>\n",
    "\"\"\"\n",
    "\n",
    "from IPython.display import HTML\n",
    "HTML(raw)"
   ]
  },
  {
   "cell_type": "markdown",
   "metadata": {
    "_cell_guid": "7be0a9b3-3437-4f0f-8a9a-3fc5557114d8",
    "_uuid": "7761ccf7027a4af865154018bfb73c128c0de8af"
   },
   "source": [
    "## Area charts\n",
    "\n",
    "Area charts are just line charts, but with the bottom shaded in. That's it!"
   ]
  },
  {
   "cell_type": "code",
   "execution_count": 13,
   "metadata": {
    "_cell_guid": "c8e00ae9-e36e-414b-a562-9ae11b2145b8",
    "_uuid": "29230c6f8fc9d664aa0d37cc75d9c3fc8e0ac8d5"
   },
   "outputs": [
    {
     "data": {
      "text/plain": [
       "<matplotlib.axes._subplots.AxesSubplot at 0x203b1b53278>"
      ]
     },
     "execution_count": 13,
     "metadata": {},
     "output_type": "execute_result"
    },
    {
     "data": {
      "image/png": "[encoded data removed]",
      "text/plain": [
       "<Figure size 432x288 with 1 Axes>"
      ]
     },
     "metadata": {
      "needs_background": "light"
     },
     "output_type": "display_data"
    }
   ],
   "source": [
    "reviews['points'].value_counts().sort_index().plot.area()"
   ]
  },
  {
   "cell_type": "markdown",
   "metadata": {
    "_cell_guid": "811f6551-cd81-43dc-82ae-26f95a5996c4",
    "_uuid": "e22b8c1e65a1d2ea0cf18962a61c020764569570"
   },
   "source": [
    "When plotting only one variable, the difference between an area chart and a line chart is mostly visual. In this context, they can be used interchangably."
   ]
  },
  {
   "cell_type": "markdown",
   "metadata": {
    "_cell_guid": "d635138c-e23e-472a-a495-59bac6d077ef",
    "_uuid": "3ffe5195d7374af2c1533ace76eba90cd140a00a"
   },
   "source": [
    "## Interval data\n",
    "\n",
    "Let's move on by looking at yet another type of data, an **interval variable**.\n",
    "\n",
    "Examples of interval variables are the wind speed in a hurricane, shear strength in concrete, and the temperature of the sun. An interval variable goes beyond an ordinal categorical variable: it has a *meaningful* order, in the sense that we can quantify what the difference between two entries is itself an interval variable.\n",
    "\n",
    "For example, if I say that this sample of water is -20 degrees Celcius, and this other sample is 120 degrees Celcius, then I can quantify the difference between them: 140 degrees \"worth\" of heat, or such-and-such many joules of energy.\n",
    "\n",
    "The difference can be qualitative sometimes. At a minimum, being able to state something so clearly feels a lot more \"measured\" than, say, saying you'll buy this wine and not that one, because this one scored a 92 on some taste test and that one only got an 85. More definitively, any variable that has infinitely many possible values is definitely an interval variable (why not 120.1 degrees? 120.001? 120.0000000001? Etc).\n",
    "\n",
    "Line charts work well for interval data. Bar charts don't—unless your ability to measure it is very limited, interval data will naturally vary by quite a lot.\n",
    "\n",
    "Let's apply a new tool, the histogram, to an interval variable in our dataset, price (we'll cut price off at 200$ a bottle; more on why shortly)."
   ]
  },
  {
   "cell_type": "markdown",
   "metadata": {
    "_cell_guid": "c8dbf164-a024-47c6-b0e7-5b1109f815a0",
    "_uuid": "4ebe0e7312ed0a8c3d58f9740148de43843cbb16"
   },
   "source": [
    "## Histograms\n",
    "\n",
    "Here's a histogram:"
   ]
  },
  {
   "cell_type": "markdown",
   "metadata": {
    "_cell_guid": "03058fba-c1ec-4263-97e0-ac2500f604d3",
    "_uuid": "747d3a4ab5b14ce8a86c41d6086b3f3453052e2a"
   },
   "source": [
    "A histogram looks, trivially, like a bar plot. And it basically is! In fact, a histogram is special kind of bar plot that splits your data into even intervals and displays how many rows are in each interval with bars. The only analytical difference is that instead of each bar representing a single value, it represents a range of values.\n",
    "\n",
    "However, histograms have one major shortcoming (the reason for our 200$ caveat earlier). Because they break space up into even intervals, they don't deal very well with skewed data:"
   ]
  },
  {
   "cell_type": "code",
   "execution_count": 14,
   "metadata": {
    "_cell_guid": "5244e485-8422-4fac-ae99-79a960a5384e",
    "_uuid": "200656f998c0a73ff57ca5e0a41991ed7ce67e8a"
   },
   "outputs": [
    {
     "data": {
      "text/plain": [
       "<matplotlib.axes._subplots.AxesSubplot at 0x203b1bc17f0>"
      ]
     },
     "execution_count": 14,
     "metadata": {},
     "output_type": "execute_result"
    },
    {
     "data": {
      "image/png": "[encoded data removed]",
      "text/plain": [
       "<Figure size 432x288 with 1 Axes>"
      ]
     },
     "metadata": {
      "needs_background": "light"
     },
     "output_type": "display_data"
    }
   ],
   "source": [
    "reviews['price'].plot.hist()"
   ]
  },
  {
   "cell_type": "markdown",
   "metadata": {
    "_cell_guid": "a5454d35-c2c5-4bd2-b26b-0d7e35ac6017",
    "_uuid": "243ee891095adcef6041c1ebdae1617ae89188b2"
   },
   "source": [
    "There are many ways of dealing with the skewed data problem; those are outside the scope of this tutorial. The easiest is to just do what I did: cut things off at a sensible level.\n",
    "\n",
    "This phenomenon is known (statistically) as **skew**, and it's a fairly common occurance among interval variables.\n",
    "\n",
    "Histograms work best for interval variables without skew. They also work really well for ordinal categorical variables like `points`:"
   ]
  },
  {
   "cell_type": "code",
   "execution_count": 15,
   "metadata": {
    "_cell_guid": "fd895cd5-7918-4890-a7cf-16a47383a13c",
    "_uuid": "5793b0af9799a040800a3e204066234e2172b22e"
   },
   "outputs": [
    {
     "data": {
      "text/html": [
       "<div>\n",
       "<style scoped>\n",
       "    .dataframe tbody tr th:only-of-type {\n",
       "        vertical-align: middle;\n",
       "    }\n",
       "\n",
       "    .dataframe tbody tr th {\n",
       "        vertical-align: top;\n",
       "    }\n",
       "\n",
       "    .dataframe thead th {\n",
       "        text-align: right;\n",
       "    }\n",
       "</style>\n",
       "<table border=\"1\" class=\"dataframe\">\n",
       "  <thead>\n",
       "    <tr style=\"text-align: right;\">\n",
       "      <th></th>\n",
       "      <th>country</th>\n",
       "      <th>description</th>\n",
       "      <th>designation</th>\n",
       "      <th>points</th>\n",
       "      <th>price</th>\n",
       "      <th>province</th>\n",
       "      <th>region_1</th>\n",
       "      <th>region_2</th>\n",
       "      <th>variety</th>\n",
       "      <th>winery</th>\n",
       "    </tr>\n",
       "  </thead>\n",
       "  <tbody>\n",
       "    <tr>\n",
       "      <th>13318</th>\n",
       "      <td>US</td>\n",
       "      <td>The nose on this single-vineyard wine from a s...</td>\n",
       "      <td>Roger Rose Vineyard</td>\n",
       "      <td>91</td>\n",
       "      <td>2013.0</td>\n",
       "      <td>California</td>\n",
       "      <td>Arroyo Seco</td>\n",
       "      <td>Central Coast</td>\n",
       "      <td>Chardonnay</td>\n",
       "      <td>Blair</td>\n",
       "    </tr>\n",
       "    <tr>\n",
       "      <th>34920</th>\n",
       "      <td>France</td>\n",
       "      <td>A big, powerful wine that sums up the richness...</td>\n",
       "      <td>NaN</td>\n",
       "      <td>99</td>\n",
       "      <td>2300.0</td>\n",
       "      <td>Bordeaux</td>\n",
       "      <td>Pauillac</td>\n",
       "      <td>NaN</td>\n",
       "      <td>Bordeaux-style Red Blend</td>\n",
       "      <td>Château Latour</td>\n",
       "    </tr>\n",
       "    <tr>\n",
       "      <th>34922</th>\n",
       "      <td>France</td>\n",
       "      <td>A massive wine for Margaux, packed with tannin...</td>\n",
       "      <td>NaN</td>\n",
       "      <td>98</td>\n",
       "      <td>1900.0</td>\n",
       "      <td>Bordeaux</td>\n",
       "      <td>Margaux</td>\n",
       "      <td>NaN</td>\n",
       "      <td>Bordeaux-style Red Blend</td>\n",
       "      <td>Château Margaux</td>\n",
       "    </tr>\n",
       "  </tbody>\n",
       "</table>\n",
       "</div>"
      ],
      "text/plain": [
       "      country                                        description  \\\n",
       "13318      US  The nose on this single-vineyard wine from a s...   \n",
       "34920  France  A big, powerful wine that sums up the richness...   \n",
       "34922  France  A massive wine for Margaux, packed with tannin...   \n",
       "\n",
       "               designation  points   price    province     region_1  \\\n",
       "13318  Roger Rose Vineyard      91  2013.0  California  Arroyo Seco   \n",
       "34920                  NaN      99  2300.0    Bordeaux     Pauillac   \n",
       "34922                  NaN      98  1900.0    Bordeaux      Margaux   \n",
       "\n",
       "            region_2                   variety           winery  \n",
       "13318  Central Coast                Chardonnay            Blair  \n",
       "34920            NaN  Bordeaux-style Red Blend   Château Latour  \n",
       "34922            NaN  Bordeaux-style Red Blend  Château Margaux  "
      ]
     },
     "execution_count": 15,
     "metadata": {},
     "output_type": "execute_result"
    }
   ],
   "source": [
    "reviews[reviews['price'] > 1500]"
   ]
  },
  {
   "cell_type": "markdown",
   "metadata": {
    "_cell_guid": "2ef00e66-c62d-433a-a84d-a943bb6a8663",
    "_uuid": "69bcae9e70a4c68abf4c8ab55f4345ebb3772dce"
   },
   "source": [
    "Some of these vintages are really expensive! And the chart will \"grow\" to include them, to the detriment of the rest of the data being shown."
   ]
  },
  {
   "cell_type": "code",
   "execution_count": 16,
   "metadata": {},
   "outputs": [
    {
     "data": {
      "text/plain": [
       "136368"
      ]
     },
     "execution_count": 16,
     "metadata": {},
     "output_type": "execute_result"
    }
   ],
   "source": [
    "# select data with price < 200\n",
    "reviews[reviews['price'] < 200]['price'].count()"
   ]
  },
  {
   "cell_type": "code",
   "execution_count": 17,
   "metadata": {
    "_cell_guid": "4cd3fac2-0eeb-4519-8d66-348c0994b3d3",
    "_uuid": "489e41a20bb5ecbbf29fb02f912fc74bc0dd0c66"
   },
   "outputs": [
    {
     "data": {
      "text/plain": [
       "<matplotlib.axes._subplots.AxesSubplot at 0x203b36b6898>"
      ]
     },
     "execution_count": 17,
     "metadata": {},
     "output_type": "execute_result"
    },
    {
     "data": {
      "image/png": "[encoded data removed]",
      "text/plain": [
       "<Figure size 432x288 with 1 Axes>"
      ]
     },
     "metadata": {
      "needs_background": "light"
     },
     "output_type": "display_data"
    }
   ],
   "source": [
    "reviews[reviews['price'] < 200]['price'].plot.hist()"
   ]
  },
  {
   "cell_type": "code",
   "execution_count": 18,
   "metadata": {
    "_cell_guid": "cc0d2d1e-0a1d-49e5-8636-6b41bc3b3a05",
    "_uuid": "2a145207771c771412787ac08b3e7415ab664fa0"
   },
   "outputs": [
    {
     "data": {
      "text/plain": [
       "<matplotlib.axes._subplots.AxesSubplot at 0x203b1b53908>"
      ]
     },
     "execution_count": 18,
     "metadata": {},
     "output_type": "execute_result"
    },
    {
     "data": {
      "image/png": "[encoded data removed]",
      "text/plain": [
       "<Figure size 432x288 with 1 Axes>"
      ]
     },
     "metadata": {
      "needs_background": "light"
     },
     "output_type": "display_data"
    }
   ],
   "source": [
    "reviews['points'].plot.hist()"
   ]
  },
  {
   "cell_type": "markdown",
   "metadata": {
    "_cell_guid": "6a39a9cd-df1f-409c-9074-d1a93795076b",
    "_uuid": "1e06cb366574638bac602421637b00a0a98993e1"
   },
   "source": [
    "## Exercise: bar, line/area, or histogram?\n",
    "\n",
    "Let's do another exercise. What would the best chart type be for:\n",
    "\n",
    "1. The volume of apples picked at an orchard based on the type of apple (Granny Smith, Fuji, etcetera).\n",
    "2. The number of points won in all basketball games in a season.\n",
    "3. The count of apartment buildings in Chicago by the number of individual units.\n",
    "\n",
    "To see the answer, click the \"Output\" button on the code block below."
   ]
  },
  {
   "cell_type": "code",
   "execution_count": 19,
   "metadata": {
    "_cell_guid": "3b9e81b2-1e83-4c5b-857e-b047e3f684c8",
    "_kg_hide-input": true,
    "_kg_hide-output": true,
    "_uuid": "eea8cc2d8bfc1509536b0e3070150c24c28ffe52"
   },
   "outputs": [
    {
     "data": {
      "text/html": [
       "\n",
       "<ol>\n",
       "<li>Example number 1 is a nominal categorical example, and hence, a pretty straightfoward bar graph target.</li>\n",
       "<br/>\n",
       "<li>Example 2 is a large nominal categorical variable. A basketball game team can score between 50 and 150 points, too much for a bar chart; a line chart is a good way to go. A histogram could also work.</li>\n",
       "<br/>\n",
       "<li>Example 3 is an interval variable: a single building can have anywhere between 1 and 1000 or more apartment units. A line chart could work, but a histogram would probably work better! Note that this distribution is going to have a lot of skew (there is only a handful of very, very large apartment buildings).</li>\n",
       "</ol>\n"
      ],
      "text/plain": [
       "<IPython.core.display.HTML object>"
      ]
     },
     "execution_count": 19,
     "metadata": {},
     "output_type": "execute_result"
    }
   ],
   "source": [
    "raw = \"\"\"\n",
    "<ol>\n",
    "<li>Example number 1 is a nominal categorical example, and hence, a pretty straightfoward bar graph target.</li>\n",
    "<br/>\n",
    "<li>Example 2 is a large nominal categorical variable. A basketball game team can score between 50 and 150 points, too much for a bar chart; a line chart is a good way to go. A histogram could also work.</li>\n",
    "<br/>\n",
    "<li>Example 3 is an interval variable: a single building can have anywhere between 1 and 1000 or more apartment units. A line chart could work, but a histogram would probably work better! Note that this distribution is going to have a lot of skew (there is only a handful of very, very large apartment buildings).</li>\n",
    "</ol>\n",
    "\"\"\"\n",
    "\n",
    "from IPython.display import HTML\n",
    "HTML(raw)"
   ]
  },
  {
   "cell_type": "markdown",
   "metadata": {
    "_cell_guid": "fbf53981-2e97-4cc3-ad2c-8522e6de477f",
    "_uuid": "e6bacabdce49cbf740f87499534cea10ecd89d86"
   },
   "source": [
    "## Conclusion and exercise\n",
    "\n",
    "In this section of the tutorial we learned about the handful of different kinds of data, and looked at some of the built-in tools that `pandas` provides us for plotting them.\n",
    "\n",
    "Now it's your turn!\n",
    "\n",
    "For these exercises, we'll be working with the Pokemon dataset (because what goes together better than wine and Pokemon?)."
   ]
  },
  {
   "cell_type": "code",
   "execution_count": null,
   "metadata": {},
   "outputs": [],
   "source": [
    "pd.set_option('max_columns', None)\n",
    "pokemon = pd.read_csv(\"../input/pokemon/pokemon.csv\")\n",
    "pokemon.head(3)"
   ]
  },
  {
   "cell_type": "markdown",
   "metadata": {
    "_cell_guid": "1928da89-2759-423f-b281-95b76be193bb",
    "_uuid": "9c11ab74f6fa6f99662d303cb5fcaea9fd6a8b1e"
   },
   "source": [
    "Try forking this kernel, and see if you can replicate the following plots. To see the answers, click the \"Code\" button to unhide the code and see the answers."
   ]
  },
  {
   "cell_type": "markdown",
   "metadata": {
    "_cell_guid": "1d86595c-2a24-4aba-8567-f1256e35ccbf",
    "_uuid": "ebf442d35fa1de66b43956db739ad426fc740933"
   },
   "source": [
    "The frequency of Pokemon by type:"
   ]
  },
  {
   "cell_type": "code",
   "execution_count": null,
   "metadata": {
    "_cell_guid": "54144bd1-bfc9-4ae0-8036-b5b73ce31f5e",
    "_kg_hide-input": true,
    "_uuid": "7f5f07645791f33cfbca0ecce8c2c19a0199f6da",
    "collapsed": true
   },
   "outputs": [],
   "source": [
    "pokemon['type1'].value_counts().plot.bar()"
   ]
  },
  {
   "cell_type": "markdown",
   "metadata": {
    "_cell_guid": "4ffd92d7-9b72-4a67-92fd-d9d34ecc96a8",
    "_uuid": "275c2b969804ab77a8ae07e2d2f9488ec81f9006"
   },
   "source": [
    "The frequency of Pokemon by HP stat total:"
   ]
  },
  {
   "cell_type": "code",
   "execution_count": null,
   "metadata": {
    "_cell_guid": "be7eabc3-20b7-4239-8334-4b537dbd1b39",
    "_kg_hide-input": true,
    "_uuid": "53b333f515ce8c4a0dd19d53e7f86ad190003a37",
    "collapsed": true
   },
   "outputs": [],
   "source": [
    "pokemon['hp'].value_counts().sort_index().plot.line()"
   ]
  },
  {
   "cell_type": "markdown",
   "metadata": {
    "_cell_guid": "87854b5d-933d-4909-b292-425e0cbf09a8",
    "_uuid": "0f5ce4fefd0744944a06c60017752974f61639c8"
   },
   "source": [
    "The frequency of Pokemon by weight:"
   ]
  },
  {
   "cell_type": "code",
   "execution_count": null,
   "metadata": {
    "_cell_guid": "5de70ca3-e30f-40fa-b459-1b9412fd4956",
    "_kg_hide-input": true,
    "_uuid": "1ad5baabdb33c46b3c8dede8af09a22d39c0fecd",
    "collapsed": true
   },
   "outputs": [],
   "source": [
    "pokemon['weight_kg'].plot.hist()"
   ]
  },
  {
   "cell_type": "markdown",
   "metadata": {
    "_cell_guid": "7986f1e4-8407-4524-82af-fed1b2737867",
    "_uuid": "b00c20e0f90e55ceb8511762abed2dcaf4d93043"
   },
   "source": [
    "[Click here to move on to \"Bivariate plotting with pandas\"](https://www.kaggle.com/residentmario/bivariate-plotting-with-pandas/).\n",
    "\n",
    "You may also want to take a look at [the addendum on pie charts](https://www.kaggle.com/residentmario/data-visualization-addendum-pie-charts/)."
   ]
  }
 ],
 "metadata": {
  "anaconda-cloud": {},
  "kernelspec": {
   "display_name": "Python 3",
   "language": "python",
   "name": "python3"
  },
  "language_info": {
   "codemirror_mode": {
    "name": "ipython",
    "version": 3
   },
   "file_extension": ".py",
   "mimetype": "text/x-python",
   "name": "python",
   "nbconvert_exporter": "python",
   "pygments_lexer": "ipython3",
   "version": "3.7.0"
  }
 },
 "nbformat": 4,
 "nbformat_minor": 1
}
